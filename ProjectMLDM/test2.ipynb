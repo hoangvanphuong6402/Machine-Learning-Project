{
 "cells": [
  {
   "cell_type": "code",
   "execution_count": null,
   "metadata": {},
   "outputs": [],
   "source": [
    "import tkinter as tk\n",
    "import numpy as np # thư viện tính toán toán học\n",
    "import seaborn as sns\n",
    "import matplotlib.pyplot as plt # visualize data sử dụng đồ thị\n",
    "sns.set(color_codes = True)\n",
    "from scipy.spatial.distance import cdist # Hỗ trợ tính khoảng cách\n",
    "import pandas as pd \n",
    "import math as m \n",
    "import csv\n",
    "import random\n",
    "from sklearn.cluster import KMeans\n",
    "from sklearn.metrics import davies_bouldin_score\n",
    "from sklearn.metrics import silhouette_score\n",
    "from sklearn.metrics.pairwise import pairwise_distances\n",
    "from sklearn.preprocessing import MinMaxScaler\n",
    "from pyclustering.cluster import cluster_visualizer\n",
    "from pyclustering.cluster.birch import birch\n",
    "from pyclustering.samples.definitions import FCPS_SAMPLES\n",
    "from pyclustering.utils import read_sample\n",
    "\n",
    "\n",
    "num_cluster = 5"
   ]
  }
 ],
 "metadata": {
  "language_info": {
   "name": "python"
  },
  "orig_nbformat": 4
 },
 "nbformat": 4,
 "nbformat_minor": 2
}
